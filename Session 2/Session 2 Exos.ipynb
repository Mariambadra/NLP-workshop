{
 "cells": [
  {
   "cell_type": "markdown",
   "id": "55f0902e-be43-4801-8235-96d03e0de665",
   "metadata": {},
   "source": [
    "# Exercises for Bag of Words (BoW)\n"
   ]
  },
  {
   "cell_type": "markdown",
   "id": "08febfed-1187-4dc7-9dcd-a611fed115ac",
   "metadata": {},
   "source": [
    "## Exercise 1: Basic Bag of Words Representation\n",
    "### Problem: Write a Python script that manually creates a Bag of Words representation of a small set of sentences. Display the resulting vocabulary and the BoW representation for each sentence."
   ]
  },
  {
   "cell_type": "code",
   "execution_count": 3,
   "id": "5e977b83-f128-490b-83db-ae5c891a058a",
   "metadata": {},
   "outputs": [
    {
     "name": "stdout",
     "output_type": "stream",
     "text": [
      "Vocabulary: ['and', 'at', 'barked', 'bird', 'cat', 'cat.', 'dog', 'dog.', 'flew', 'mat.', 'on', 'over', 'sat', 'the']\n",
      "Bag of Words Representation:\n",
      "Sentence 1: [0, 0, 0, 0, 1, 0, 0, 0, 0, 1, 1, 0, 1, 2]\n",
      "Sentence 2: [0, 1, 1, 0, 0, 1, 1, 0, 0, 0, 0, 0, 0, 2]\n",
      "Sentence 3: [1, 0, 0, 1, 1, 0, 0, 1, 1, 0, 0, 1, 0, 3]\n"
     ]
    }
   ],
   "source": [
    "sentences = [\n",
    "    \"The cat sat on the mat.\",\n",
    "    \"The dog barked at the cat.\",\n",
    "    \"The bird flew over the cat and the dog.\"\n",
    "]\n",
    "\n",
    "# Step 1: Tokenize each sentence into words\n",
    "tokenized_sentences = [sentence.lower().split() for sentence in sentences]\n",
    "\n",
    "# Step 2: Create a vocabulary list\n",
    "vocabulary = sorted(set(word for sentence in tokenized_sentences for word in sentence))\n",
    "\n",
    "# Step 3: Create the Bag of Words representation\n",
    "bow_representation = []\n",
    "for sentence in tokenized_sentences:\n",
    "    bow = [sentence.count(word) for word in vocabulary]\n",
    "    bow_representation.append(bow)\n",
    "\n",
    "# Display the results\n",
    "print(\"Vocabulary:\", vocabulary)\n",
    "print(\"Bag of Words Representation:\")\n",
    "for i, bow in enumerate(bow_representation):\n",
    "    print(f\"Sentence {i + 1}: {bow}\")"
   ]
  },
  {
   "cell_type": "markdown",
   "id": "27f3d46a-74bf-462d-9e07-72924b22525a",
   "metadata": {},
   "source": [
    "## Exercise 2: Bag of Words with Stop Words Removal\n",
    "### Problem: Modify the previous exercise to remove common English stop words from the vocabulary before creating the Bag of Words representation."
   ]
  },
  {
   "cell_type": "code",
   "execution_count": 4,
   "id": "e7a0aa09-fe9f-4769-8ae5-0a37724bbef7",
   "metadata": {},
   "outputs": [
    {
     "name": "stdout",
     "output_type": "stream",
     "text": [
      "Vocabulary: ['barked', 'bird', 'cat', 'cat.', 'dog', 'dog.', 'flew', 'mat.', 'over', 'sat']\n",
      "Bag of Words Representation:\n",
      "Sentence 1: [0, 0, 1, 0, 0, 0, 0, 1, 0, 1]\n",
      "Sentence 2: [1, 0, 0, 1, 1, 0, 0, 0, 0, 0]\n",
      "Sentence 3: [0, 1, 1, 0, 0, 1, 1, 0, 1, 0]\n"
     ]
    }
   ],
   "source": [
    "# Common stop words\n",
    "stop_words = {\"the\", \"on\", \"at\", \"and\"}\n",
    "\n",
    "# Step 1: Tokenize each sentence into words, removing stop words\n",
    "tokenized_sentences = [[word for word in sentence.lower().split() if word not in stop_words] for sentence in sentences]\n",
    "\n",
    "# Step 2: Create a vocabulary list\n",
    "vocabulary = sorted(set(word for sentence in tokenized_sentences for word in sentence))\n",
    "\n",
    "# Step 3: Create the Bag of Words representation\n",
    "bow_representation = []\n",
    "for sentence in tokenized_sentences:\n",
    "    bow = [sentence.count(word) for word in vocabulary]\n",
    "    bow_representation.append(bow)\n",
    "\n",
    "# Display the results\n",
    "print(\"Vocabulary:\", vocabulary)\n",
    "print(\"Bag of Words Representation:\")\n",
    "for i, bow in enumerate(bow_representation):\n",
    "    print(f\"Sentence {i + 1}: {bow}\")"
   ]
  },
  {
   "cell_type": "markdown",
   "id": "a7a760a1-f9ef-4d6d-9a1d-a7cad2c69f36",
   "metadata": {},
   "source": [
    "## Exercise 3: Counting Word Frequencies\n",
    "### Problem: Write a script that counts the frequency of each word in the entire corpus and displays the word frequencies.Create a bar chart that visualizes the frequency of the top 5 words from the cleaned Bag of Words model."
   ]
  },
  {
   "cell_type": "code",
   "execution_count": 12,
   "id": "c0b446da-25d4-4d74-9a9d-740e2648a300",
   "metadata": {},
   "outputs": [
    {
     "name": "stdout",
     "output_type": "stream",
     "text": [
      "Word Frequencies: {'the': 7, 'cat': 2, 'sat': 1, 'on': 1, 'mat.': 1, 'dog': 1, 'barked': 1, 'at': 1, 'cat.': 1, 'bird': 1, 'flew': 1, 'over': 1, 'and': 1, 'dog.': 1}\n"
     ]
    },
    {
     "data": {
      "image/png": "[encoded data removed]",
      "text/plain": [
       "<Figure size 640x480 with 1 Axes>"
      ]
     },
     "metadata": {},
     "output_type": "display_data"
    }
   ],
   "source": [
    "import matplotlib.pyplot as plt\n",
    "from sklearn.feature_extraction.text import CountVectorizer\n",
    "import numpy as np\n",
    "# Step 1: Tokenize each sentence into words\n",
    "tokenized_sentences = [sentence.lower().split() for sentence in sentences]\n",
    "\n",
    "# Step 2: Count the occurrences of each word\n",
    "word_frequencies = {}\n",
    "for sentence in tokenized_sentences:\n",
    "    for word in sentence:\n",
    "        if word not in word_frequencies:\n",
    "            word_frequencies[word] = 1\n",
    "        else:\n",
    "            word_frequencies[word] += 1\n",
    "\n",
    "# Display the word frequencies\n",
    "print(\"Word Frequencies:\", word_frequencies)\n",
    "\n",
    "# Create the Bag of Words model\n",
    "vectorizer = CountVectorizer()\n",
    "X = vectorizer.fit_transform(sentences)\n",
    "\n",
    "# Sum up the counts of each vocabulary word\n",
    "word_freq = np.asarray(X.sum(axis=0)).flatten()\n",
    "words = vectorizer.get_feature_names_out()\n",
    "\n",
    "# Get the top 10 most frequent words\n",
    "top_indices = word_freq.argsort()[-10:][::-1]\n",
    "top_words = words[top_indices]\n",
    "top_counts = word_freq[top_indices]\n",
    "\n",
    "# Plot the bar chart\n",
    "plt.barh(top_words, top_counts, color='skyblue')\n",
    "plt.xlabel('Frequency')\n",
    "plt.title('Top 10 Words by Frequency')\n",
    "plt.show()"
   ]
  },
  {
   "cell_type": "markdown",
   "id": "aeaf4ab5-d0c2-481c-a9ef-4838f93d6d69",
   "metadata": {},
   "source": [
    "# Exercises for TF-IDF"
   ]
  },
  {
   "cell_type": "markdown",
   "id": "300e3043-70f4-4a5e-b059-2984aeb4f03c",
   "metadata": {},
   "source": [
    "## Exercise 1: Basic TF-IDF Calculation\n",
    "### Problem: Manually compute the TF-IDF score for each word in a small set of sentences. Assume that the inverse document frequency (IDF) is precomputed."
   ]
  },
  {
   "cell_type": "code",
   "execution_count": 13,
   "id": "226abfe4-489e-49ee-8d09-a1678bd41c7c",
   "metadata": {},
   "outputs": [
    {
     "name": "stdout",
     "output_type": "stream",
     "text": [
      "Sentence 1 TF-IDF: {'the': 0.0, 'cat': 0.049999999999999996, 'sat': 0.11666666666666665, 'on': 0.15}\n",
      "Sentence 2 TF-IDF: {'the': 0.0, 'dog': 0.049999999999999996, 'barked': 0.16666666666666666, 'at': 0.15}\n",
      "Sentence 3 TF-IDF: {'the': 0.0, 'bird': 0.1111111111111111, 'flew': 0.1111111111111111, 'over': 0.1111111111111111, 'cat': 0.03333333333333333}\n"
     ]
    }
   ],
   "source": [
    "sentences = [\n",
    "    \"The cat sat on the mat.\",\n",
    "    \"The dog barked at the cat.\",\n",
    "    \"The bird flew over the cat and the dog.\"\n",
    "]\n",
    "\n",
    "# Precomputed IDF values (for simplicity, we'll assume these are given)\n",
    "idf_values = {\n",
    "    \"the\": 0.0,\n",
    "    \"cat\": 0.3,\n",
    "    \"sat\": 0.7,\n",
    "    \"on\": 0.9,\n",
    "    \"mat\": 1.0,\n",
    "    \"dog\": 0.3,\n",
    "    \"barked\": 1.0,\n",
    "    \"at\": 0.9,\n",
    "    \"bird\": 1.0,\n",
    "    \"flew\": 1.0,\n",
    "    \"over\": 1.0\n",
    "}\n",
    "\n",
    "# Step 1: Compute the term frequency (TF)\n",
    "tf_values = []\n",
    "for sentence in sentences:\n",
    "    words = sentence.lower().split()\n",
    "    tf = {}\n",
    "    for word in words:\n",
    "        tf[word] = words.count(word) / len(words)\n",
    "    tf_values.append(tf)\n",
    "\n",
    "# Step 2: Compute the TF-IDF by multiplying TF by IDF\n",
    "tfidf_values = []\n",
    "for tf in tf_values:\n",
    "    tfidf = {word: tf[word] * idf_values[word] for word in tf if word in idf_values}\n",
    "    tfidf_values.append(tfidf)\n",
    "\n",
    "# Display the TF-IDF values\n",
    "for i, tfidf in enumerate(tfidf_values):\n",
    "    print(f\"Sentence {i + 1} TF-IDF:\", tfidf)"
   ]
  },
  {
   "cell_type": "markdown",
   "id": "a0f19c6c-cdcf-4653-80dd-591bc9b6690b",
   "metadata": {},
   "source": [
    "## Exercise 2: Comparing Words Across Documents with TF-IDF\n",
    "### Problem: Write a script that compares the TF-IDF values of the word \"cat\" across all documents in the small corpus provided."
   ]
  },
  {
   "cell_type": "code",
   "execution_count": 14,
   "id": "3602ec2f-4121-4cb5-b2df-009a0edbf419",
   "metadata": {},
   "outputs": [
    {
     "name": "stdout",
     "output_type": "stream",
     "text": [
      "TF-IDF for 'cat' across documents: [0.049999999999999996, 0.0, 0.03333333333333333]\n"
     ]
    }
   ],
   "source": [
    "sentences = [\n",
    "    \"The cat sat on the mat.\",\n",
    "    \"The dog barked at the cat.\",\n",
    "    \"The bird flew over the cat and the dog.\"\n",
    "]\n",
    "\n",
    "# Precomputed IDF value for \"cat\"\n",
    "idf_cat = 0.3\n",
    "\n",
    "# Step 1: Compute the term frequency (TF) for \"cat\"\n",
    "tf_cat_values = []\n",
    "for sentence in sentences:\n",
    "    words = sentence.lower().split()\n",
    "    tf_cat = words.count(\"cat\") / len(words)\n",
    "    tf_cat_values.append(tf_cat)\n",
    "\n",
    "# Step 2: Compute the TF-IDF for \"cat\"\n",
    "tfidf_cat_values = [tf * idf_cat for tf in tf_cat_values]\n",
    "\n",
    "# Display the TF-IDF values for \"cat\"\n",
    "print(\"TF-IDF for 'cat' across documents:\", tfidf_cat_values)"
   ]
  },
  {
   "cell_type": "markdown",
   "id": "d7f8da02-622d-4f93-aa4a-724c1e93db63",
   "metadata": {},
   "source": [
    "## Exercise 3: Understanding the Impact of Word Frequency on TF-IDF\n",
    "### Problem: Modify the sentences so that the word \"dog\" appears more frequently. Recompute the TF-IDF for \"dog\" and compare it with the previous value."
   ]
  },
  {
   "cell_type": "code",
   "execution_count": 15,
   "id": "32ed6f4e-4684-4ecd-87fa-841aee4f58b1",
   "metadata": {},
   "outputs": [
    {
     "name": "stdout",
     "output_type": "stream",
     "text": [
      "TF-IDF for 'dog' across modified documents: [0.03333333333333333, 0.049999999999999996, 0.03333333333333333]\n"
     ]
    }
   ],
   "source": [
    "sentences = [\n",
    "    \"The dog sat on the mat with the dog.\",\n",
    "    \"The dog barked at the cat.\",\n",
    "    \"The bird flew over the dog and the cat.\"\n",
    "]\n",
    "\n",
    "# Precomputed IDF value for \"dog\"\n",
    "idf_dog = 0.3\n",
    "\n",
    "# Step 1: Compute the term frequency (TF) for \"dog\"\n",
    "tf_dog_values = []\n",
    "for sentence in sentences:\n",
    "    words = sentence.lower().split()\n",
    "    tf_dog = words.count(\"dog\") / len(words)\n",
    "    tf_dog_values.append(tf_dog)\n",
    "\n",
    "# Step 2: Compute the TF-IDF for \"dog\"\n",
    "tfidf_dog_values = [tf * idf_dog for tf in tf_dog_values]\n",
    "\n",
    "# Display the TF-IDF values for \"dog\"\n",
    "print(\"TF-IDF for 'dog' across modified documents:\", tfidf_dog_values)"
   ]
  },
  {
   "cell_type": "markdown",
   "id": "f32b50b0-cbd7-44a8-9695-67dc88b85816",
   "metadata": {},
   "source": [
    "## Exercise 4: Creating a Dictionary and Corpus\n",
    "### Problem: Use Gensim to create a dictionary and Bag of Words corpus from a provided text. Display the dictionary."
   ]
  },
  {
   "cell_type": "code",
   "execution_count": 17,
   "id": "e71958cf-b0fb-4c75-911d-2a7af3b13444",
   "metadata": {},
   "outputs": [
    {
     "name": "stdout",
     "output_type": "stream",
     "text": [
      "Dictionary: {'dog': 0, 'dog.': 1, 'mat': 2, 'on': 3, 'sat': 4, 'the': 5, 'with': 6, 'at': 7, 'barked': 8, 'cat.': 9, 'and': 10, 'bird': 11, 'flew': 12, 'over': 13}\n"
     ]
    }
   ],
   "source": [
    "from gensim import corpora\n",
    "\n",
    "# Tokenize the sentences\n",
    "tokenized_texts = [text.lower().split() for text in sentences]\n",
    "\n",
    "# Create a dictionary\n",
    "dictionary = corpora.Dictionary(tokenized_texts)\n",
    "\n",
    "# Display the dictionary\n",
    "print(\"Dictionary:\", dictionary.token2id)"
   ]
  },
  {
   "cell_type": "markdown",
   "id": "aade99ab-3f99-44bc-9898-9e572a6d0b4e",
   "metadata": {},
   "source": [
    "## Exercise 5: Creating a Custom Corpus\n",
    "### Problem: Create your own small text corpus with at least three different sentences and apply TF-IDF to this corpus."
   ]
  },
  {
   "cell_type": "code",
   "execution_count": 19,
   "id": "d9664999-83df-4306-b933-8f71ca796141",
   "metadata": {},
   "outputs": [
    {
     "name": "stdout",
     "output_type": "stream",
     "text": [
      "[(0, 0.44124367556640004), (1, 0.44124367556640004), (2, 0.16284991207632715), (3, 0.44124367556640004), (4, 0.44124367556640004), (5, 0.44124367556640004)]\n",
      "[(2, 0.16073253746956623), (6, 0.4355066251613605), (7, 0.4355066251613605), (8, 0.16073253746956623), (9, 0.4355066251613605), (10, 0.4355066251613605), (11, 0.4355066251613605)]\n",
      "[(8, 0.16284991207632715), (12, 0.44124367556640004), (13, 0.44124367556640004), (14, 0.44124367556640004), (15, 0.44124367556640004), (16, 0.44124367556640004)]\n"
     ]
    }
   ],
   "source": [
    "from gensim import models\n",
    "custom_texts = [\n",
    "    \"Artificial intelligence is transforming the world.\",\n",
    "    \"Machine learning is a subset of AI.\",\n",
    "    \"Deep learning models require large datasets.\"\n",
    "]\n",
    "\n",
    "# Tokenize the sentences\n",
    "custom_tokenized_texts = [text.lower().split() for text in custom_texts]\n",
    "\n",
    "# Create a dictionary and corpus\n",
    "custom_dictionary = corpora.Dictionary(custom_tokenized_texts)\n",
    "custom_corpus = [custom_dictionary.doc2bow(text) for text in custom_tokenized_texts]\n",
    "\n",
    "# Create the TF-IDF model\n",
    "custom_tfidf = models.TfidfModel(custom_corpus)\n",
    "\n",
    "# Apply the TF-IDF model to the custom corpus\n",
    "custom_corpus_tfidf = custom_tfidf[custom_corpus]\n",
    "\n",
    "# Display the TF-IDF values\n",
    "for doc in custom_corpus_tfidf:\n",
    "    print(doc)"
   ]
  },
  {
   "cell_type": "code",
   "execution_count": null,
   "id": "26f78c8c-009e-434a-be4a-ba44a8b634ed",
   "metadata": {},
   "outputs": [],
   "source": []
  }
 ],
 "metadata": {
  "kernelspec": {
   "display_name": "Python 3 (ipykernel)",
   "language": "python",
   "name": "python3"
  },
  "language_info": {
   "codemirror_mode": {
    "name": "ipython",
    "version": 3
   },
   "file_extension": ".py",
   "mimetype": "text/x-python",
   "name": "python",
   "nbconvert_exporter": "python",
   "pygments_lexer": "ipython3",
   "version": "3.8.10"
  }
 },
 "nbformat": 4,
 "nbformat_minor": 5
}

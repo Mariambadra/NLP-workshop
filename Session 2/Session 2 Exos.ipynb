{
 "cells": [
  {
   "cell_type": "markdown",
   "id": "55f0902e-be43-4801-8235-96d03e0de665",
   "metadata": {
    "jp-MarkdownHeadingCollapsed": true
   },
   "source": [
    "# Exercises for Bag of Words (BoW)\n"
   ]
  },
  {
   "cell_type": "markdown",
   "id": "08febfed-1187-4dc7-9dcd-a611fed115ac",
   "metadata": {
    "jp-MarkdownHeadingCollapsed": true
   },
   "source": [
    "## Exercise 1: Basic Bag of Words Representation\n",
    "### Problem: Write a Python script that manually creates a Bag of Words representation of a small set of sentences. Display the resulting vocabulary and the BoW representation for each sentence."
   ]
  },
  {
   "cell_type": "code",
   "execution_count": 2,
   "id": "263c4f48",
   "metadata": {},
   "outputs": [],
   "source": [
    "sentences = [\n",
    "    \"The cat sat on the mat.\",\n",
    "    \"The dog barked at the cat.\",\n",
    "    \"The bird flew over the cat and the dog.\"\n",
    "]"
   ]
  },
  {
   "cell_type": "markdown",
   "id": "27f3d46a-74bf-462d-9e07-72924b22525a",
   "metadata": {},
   "source": [
    "## Exercise 2: Bag of Words with Stop Words Removal\n",
    "### Problem: Modify the previous exercise to remove common English stop words from the vocabulary before creating the Bag of Words representation."
   ]
  },
  {
   "cell_type": "markdown",
   "id": "a7a760a1-f9ef-4d6d-9a1d-a7cad2c69f36",
   "metadata": {},
   "source": [
    "## Exercise 3: Counting Word Frequencies\n",
    "### Problem: Write a script that counts the frequency of each word in the entire corpus and displays the word frequencies.Create a bar chart that visualizes the frequency of the top 5 words from the cleaned Bag of Words model."
   ]
  },
  {
   "cell_type": "markdown",
   "id": "aeaf4ab5-d0c2-481c-a9ef-4838f93d6d69",
   "metadata": {},
   "source": [
    "# Exercises for TF-IDF"
   ]
  },
  {
   "cell_type": "markdown",
   "id": "300e3043-70f4-4a5e-b059-2984aeb4f03c",
   "metadata": {},
   "source": [
    "## Exercise 1: Basic TF-IDF Calculation\n",
    "### Problem: Manually compute the TF-IDF score for each word in a small set of sentences. Assume that the inverse document frequency (IDF) is precomputed."
   ]
  },
  {
   "cell_type": "code",
   "execution_count": 1,
   "id": "226abfe4-489e-49ee-8d09-a1678bd41c7c",
   "metadata": {},
   "outputs": [],
   "source": [
    "sentences = [\n",
    "    \"The cat sat on the mat.\",\n",
    "    \"The dog barked at the cat.\",\n",
    "    \"The bird flew over the cat and the dog.\"\n",
    "]\n",
    "\n",
    "# Precomputed IDF values (for simplicity, we'll assume these are given)\n",
    "idf_values = {\n",
    "    \"the\": 0.0,\n",
    "    \"cat\": 0.3,\n",
    "    \"sat\": 0.7,\n",
    "    \"on\": 0.9,\n",
    "    \"mat\": 1.0,\n",
    "    \"dog\": 0.3,\n",
    "    \"barked\": 1.0,\n",
    "    \"at\": 0.9,\n",
    "    \"bird\": 1.0,\n",
    "    \"flew\": 1.0,\n",
    "    \"over\": 1.0\n",
    "}"
   ]
  },
  {
   "cell_type": "markdown",
   "id": "a0f19c6c-cdcf-4653-80dd-591bc9b6690b",
   "metadata": {},
   "source": [
    "## Exercise 2: Comparing Words Across Documents with TF-IDF\n",
    "### Problem: Write a script that compares the TF-IDF values of the word \"cat\" across all documents in the small corpus provided."
   ]
  },
  {
   "cell_type": "code",
   "execution_count": 2,
   "id": "3602ec2f-4121-4cb5-b2df-009a0edbf419",
   "metadata": {},
   "outputs": [],
   "source": [
    "sentences = [\n",
    "    \"The cat sat on the mat.\",\n",
    "    \"The dog barked at the cat.\",\n",
    "    \"The bird flew over the cat and the dog.\"\n",
    "]\n",
    "\n",
    "# Precomputed IDF value for \"cat\"\n",
    "idf_cat = 0.3"
   ]
  },
  {
   "cell_type": "markdown",
   "id": "d7f8da02-622d-4f93-aa4a-724c1e93db63",
   "metadata": {},
   "source": [
    "## Exercise 3: Understanding the Impact of Word Frequency on TF-IDF\n",
    "### Problem: Modify the sentences so that the word \"dog\" appears more frequently. Recompute the TF-IDF for \"dog\" and compare it with the previous value."
   ]
  },
  {
   "cell_type": "markdown",
   "id": "f32b50b0-cbd7-44a8-9695-67dc88b85816",
   "metadata": {},
   "source": [
    "## Exercise 4: Creating a Dictionary and Corpus\n",
    "### Problem: Use Gensim to create a dictionary and Bag of Words corpus from a provided text. Display the dictionary."
   ]
  },
  {
   "cell_type": "markdown",
   "id": "aade99ab-3f99-44bc-9898-9e572a6d0b4e",
   "metadata": {},
   "source": [
    "## Exercise 5: Creating a Custom Corpus\n",
    "### Problem: Create your own small text corpus with at least three different sentences and apply TF-IDF to this corpus."
   ]
  },
  {
   "cell_type": "code",
   "execution_count": null,
   "id": "d9664999-83df-4306-b933-8f71ca796141",
   "metadata": {},
   "outputs": [],
   "source": []
  }
 ],
 "metadata": {
  "kernelspec": {
   "display_name": "Python 3 (ipykernel)",
   "language": "python",
   "name": "python3"
  },
  "language_info": {
   "codemirror_mode": {
    "name": "ipython",
    "version": 3
   },
   "file_extension": ".py",
   "mimetype": "text/x-python",
   "name": "python",
   "nbconvert_exporter": "python",
   "pygments_lexer": "ipython3",
   "version": "3.10.13"
  }
 },
 "nbformat": 4,
 "nbformat_minor": 5
}

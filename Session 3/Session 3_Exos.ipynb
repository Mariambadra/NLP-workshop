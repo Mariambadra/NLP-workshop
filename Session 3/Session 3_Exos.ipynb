{
 "cells": [
  {
   "cell_type": "markdown",
   "id": "b655dfc4-8a9e-41af-89a0-3499b4c7f3d3",
   "metadata": {},
   "source": [
    "# NER"
   ]
  },
  {
   "cell_type": "markdown",
   "id": "440eac2d-420b-4ee1-8e50-1057415c31d2",
   "metadata": {},
   "source": [
    "## Exercise 1: Extracting Locations (GPE)"
   ]
  },
  {
   "cell_type": "markdown",
   "id": "19bec620-a019-4fb6-af10-2bdff0c15d2a",
   "metadata": {},
   "source": [
    "### Problem: Write a Python function that extracts and returns all the location names (labeled as GPE) from a given text."
   ]
  },
  {
   "cell_type": "code",
   "execution_count": null,
   "id": "703a589e-38e4-49a8-806f-6d1a0cef6579",
   "metadata": {},
   "outputs": [],
   "source": []
  },
  {
   "cell_type": "markdown",
   "id": "8f176461-d2b8-4593-b5ec-a8eccfbf763b",
   "metadata": {},
   "source": [
    "## Exercise 2: Extracting Dates and Organizations"
   ]
  },
  {
   "cell_type": "markdown",
   "id": "87de8b56-9617-4cc2-904c-44d6dc6ce569",
   "metadata": {},
   "source": [
    "### Problem: Write a Python function that extracts and returns all the organizations and dates from a given text."
   ]
  },
  {
   "cell_type": "code",
   "execution_count": null,
   "id": "652fa88c-b1cc-423d-8767-9b52b9c7587d",
   "metadata": {},
   "outputs": [],
   "source": []
  },
  {
   "cell_type": "markdown",
   "id": "bce48485-a197-438e-8941-7cfb45f0aebd",
   "metadata": {},
   "source": [
    "## Exercise 3: Identifying All Entities of a Specific Type\n"
   ]
  },
  {
   "cell_type": "markdown",
   "id": "584502fb-2192-4ef0-bc4d-8ce04a6e68ae",
   "metadata": {},
   "source": [
    "### Problem: Write a Python function that accepts a label (like PERSON, ORG, etc.) and extracts all named entities of that type from the text."
   ]
  },
  {
   "cell_type": "code",
   "execution_count": null,
   "id": "0eaddb7c-bc9a-4067-a19c-84d3bfcd8568",
   "metadata": {},
   "outputs": [],
   "source": []
  },
  {
   "cell_type": "markdown",
   "id": "9e525dd9-d3d7-48f1-905f-d5b606b31c72",
   "metadata": {},
   "source": [
    "# Word vectors"
   ]
  },
  {
   "cell_type": "markdown",
   "id": "5cb6838c-8ce5-4f76-ac72-fc76db35b125",
   "metadata": {},
   "source": [
    "## Exercise 1: Word Vector Similarity\n"
   ]
  },
  {
   "cell_type": "markdown",
   "id": "7a20b809-c2c9-47c2-b5b9-2d5dd883f8fb",
   "metadata": {},
   "source": [
    "### Problem: Write a Python function that takes two words as input and calculates the cosine similarity between their word vectors using the medium SpaCy model (en_core_web_md). Display the similarity score."
   ]
  },
  {
   "cell_type": "code",
   "execution_count": null,
   "id": "929897af-a665-45d2-979c-950982529f15",
   "metadata": {},
   "outputs": [],
   "source": []
  },
  {
   "cell_type": "markdown",
   "id": "0bbf7b68-bee0-4e2c-9612-dc9108b21713",
   "metadata": {},
   "source": [
    "## Exercise 2: Visualizing Word Vectors with PCA\n"
   ]
  },
  {
   "cell_type": "markdown",
   "id": "5c88e26b-d30f-403e-a811-bfe1623e7fff",
   "metadata": {},
   "source": [
    "### Problem: Extend the code to visualize the word vectors of the following words: [\"happy\", \"sad\", \"man\", \"woman\", \"king\", \"queen\"] using PCA to reduce the vectors to 2 dimensions. Plot the words in a 2D space."
   ]
  },
  {
   "cell_type": "code",
   "execution_count": null,
   "id": "0dcad948-ad6c-46b5-ad36-da49ba72a570",
   "metadata": {},
   "outputs": [],
   "source": []
  },
  {
   "cell_type": "markdown",
   "id": "8675622c-dd2b-40c0-b62e-d9d3be045b1f",
   "metadata": {},
   "source": [
    "## Exercise 3: Finding the Nearest Words\n"
   ]
  },
  {
   "cell_type": "markdown",
   "id": "8f4707b7-ff4d-4694-8716-d31c7f6807fd",
   "metadata": {},
   "source": [
    "### Problem: Write a Python function that takes a word as input and returns the top 3 nearest words (most similar) based on cosine similarity from the large SpaCy model (en_core_web_lg)."
   ]
  },
  {
   "cell_type": "code",
   "execution_count": null,
   "id": "6729c8f7-4684-466f-a677-d1c845221431",
   "metadata": {},
   "outputs": [],
   "source": []
  }
 ],
 "metadata": {
  "kernelspec": {
   "display_name": "Python 3 (ipykernel)",
   "language": "python",
   "name": "python3"
  },
  "language_info": {
   "codemirror_mode": {
    "name": "ipython",
    "version": 3
   },
   "file_extension": ".py",
   "mimetype": "text/x-python",
   "name": "python",
   "nbconvert_exporter": "python",
   "pygments_lexer": "ipython3",
   "version": "3.8.10"
  }
 },
 "nbformat": 4,
 "nbformat_minor": 5
}
